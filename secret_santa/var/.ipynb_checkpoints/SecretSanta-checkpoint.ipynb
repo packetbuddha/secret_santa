{
 "cells": [
  {
   "cell_type": "code",
   "execution_count": 1,
   "metadata": {},
   "outputs": [],
   "source": [
    "from ss_send import email"
   ]
  },
  {
   "cell_type": "code",
   "execution_count": 2,
   "metadata": {},
   "outputs": [],
   "source": [
    "e = email(santa='Carl', child='Mimi', to_address='alittlegnome@gmail.com')"
   ]
  },
  {
   "cell_type": "code",
   "execution_count": 3,
   "metadata": {},
   "outputs": [],
   "source": [
    "e.send()"
   ]
  },
  {
   "cell_type": "code",
   "execution_count": 1,
   "metadata": {},
   "outputs": [],
   "source": [
    "from secret_santa import SecretSanta"
   ]
  },
  {
   "cell_type": "code",
   "execution_count": 2,
   "metadata": {},
   "outputs": [],
   "source": [
    "s = SecretSanta()"
   ]
  },
  {
   "cell_type": "code",
   "execution_count": 3,
   "metadata": {},
   "outputs": [
    {
     "name": "stdout",
     "output_type": "stream",
     "text": [
      "santa is Lee\n",
      "santa picked Jessica\n",
      "crap, bad match!\n",
      "santa is Lee\n",
      "santa picked Papa\n",
      "looks good, man! I removed Papa from the hat!\n",
      "adding match... Lee -> Papa\n",
      "santa is Dylan\n",
      "santa picked Robyn\n",
      "looks good, man! I removed Robyn from the hat!\n",
      "adding match... Dylan -> Robyn\n",
      "santa is Jake\n",
      "santa picked Alfred\n",
      "looks good, man! I removed Alfred from the hat!\n",
      "adding match... Jake -> Alfred\n",
      "santa is Jessica\n",
      "santa picked Jake\n",
      "crap, bad match!\n",
      "santa is Jessica\n",
      "santa picked Jake\n",
      "crap, bad match!\n",
      "santa is Jessica\n",
      "santa picked Dylan\n",
      "crap, bad match!\n",
      "santa is Jessica\n",
      "santa picked Lee\n",
      "crap, bad match!\n",
      "santa is Jessica\n",
      "santa picked Jessica\n",
      "crap, bad match!\n",
      "santa is Jessica\n",
      "santa picked Jake\n",
      "crap, bad match!\n",
      "santa is Jessica\n",
      "santa picked Jake\n",
      "crap, bad match!\n",
      "santa is Jessica\n",
      "santa picked Jake\n",
      "crap, bad match!\n",
      "santa is Jessica\n",
      "santa picked Jessica\n",
      "crap, bad match!\n",
      "santa is Jessica\n",
      "santa picked Dylan\n",
      "crap, bad match!\n",
      "santa is Jessica\n",
      "santa picked Jake\n",
      "crap, bad match!\n",
      "santa is Jessica\n",
      "santa picked Jessica\n",
      "crap, bad match!\n",
      "santa is Jessica\n",
      "santa picked Jake\n",
      "crap, bad match!\n",
      "santa is Jessica\n",
      "santa picked Dylan\n",
      "crap, bad match!\n",
      "santa is Jessica\n",
      "santa picked Jessica\n",
      "crap, bad match!\n",
      "santa is Jessica\n",
      "santa picked Jessica\n",
      "crap, bad match!\n",
      "santa is Jessica\n",
      "santa picked Dylan\n",
      "crap, bad match!\n",
      "santa is Jessica\n",
      "santa picked Jake\n",
      "crap, bad match!\n",
      "santa is Jessica\n",
      "santa picked Jake\n",
      "crap, bad match!\n",
      "santa is Jessica\n",
      "santa picked Dylan\n",
      "crap, bad match!\n",
      "santa is Jessica\n",
      "santa picked Lee\n",
      "crap, bad match!\n",
      "santa is Jessica\n",
      "santa picked Jessica\n",
      "crap, bad match!\n",
      "santa is Jessica\n",
      "santa picked Jessica\n",
      "crap, bad match!\n",
      "santa is Jessica\n",
      "santa picked Jake\n",
      "crap, bad match!\n",
      "santa is Jessica\n",
      "santa picked Lee\n",
      "crap, bad match!\n",
      "santa is Jessica\n",
      "santa picked Lee\n",
      "crap, bad match!\n",
      "santa is Jessica\n",
      "santa picked Dylan\n",
      "crap, bad match!\n",
      "santa is Jessica\n",
      "santa picked Jessica\n",
      "crap, bad match!\n",
      "santa is Jessica\n",
      "santa picked Dylan\n",
      "crap, bad match!\n",
      "santa is Jessica\n",
      "santa picked Dylan\n",
      "crap, bad match!\n",
      "santa is Jessica\n",
      "santa picked Dylan\n",
      "crap, bad match!\n",
      "santa is Jessica\n",
      "santa picked Mimi\n",
      "looks good, man! I removed Mimi from the hat!\n",
      "adding match... Jessica -> Mimi\n",
      "santa is Mimi\n",
      "santa picked Jake\n",
      "looks good, man! I removed Jake from the hat!\n",
      "adding match... Mimi -> Jake\n",
      "santa is Papa\n",
      "santa picked Jessica\n",
      "looks good, man! I removed Jessica from the hat!\n",
      "adding match... Papa -> Jessica\n",
      "santa is Robyn\n",
      "santa picked Dylan\n",
      "looks good, man! I removed Dylan from the hat!\n",
      "adding match... Robyn -> Dylan\n",
      "santa is Alfred\n",
      "santa picked Lee\n",
      "looks good, man! I removed Lee from the hat!\n",
      "adding match... Alfred -> Lee\n"
     ]
    }
   ],
   "source": [
    "r = s.run()"
   ]
  },
  {
   "cell_type": "code",
   "execution_count": 4,
   "metadata": {},
   "outputs": [
    {
     "data": {
      "text/plain": [
       "OrderedDict([('Lee', 'Papa'),\n",
       "             ('Dylan', 'Robyn'),\n",
       "             ('Jake', 'Alfred'),\n",
       "             ('Jessica', 'Mimi'),\n",
       "             ('Mimi', 'Jake'),\n",
       "             ('Papa', 'Jessica'),\n",
       "             ('Robyn', 'Dylan'),\n",
       "             ('Alfred', 'Lee')])"
      ]
     },
     "execution_count": 4,
     "metadata": {},
     "output_type": "execute_result"
    }
   ],
   "source": [
    "r"
   ]
  },
  {
   "cell_type": "code",
   "execution_count": 7,
   "metadata": {},
   "outputs": [
    {
     "data": {
      "text/plain": [
       "[{'Dylan': {'email': 'dylan@totten.com'},\n",
       "  'Jake': {'email': 'jake@totten.com'},\n",
       "  'Jessica': {'email': 'jltewks@gmail.com'},\n",
       "  'Lee': {'email': 'lee@totten.com'}},\n",
       " {'Mimi': {'email': 'judytewks@gmail.com'},\n",
       "  'Papa': {'email': 'jdtewks@gmail.com'}},\n",
       " {'Alfred': {'email': 'None'},\n",
       "  'Robyn': {'email': 'robyn.tewksbury@gmail.com'}}]"
      ]
     },
     "execution_count": 7,
     "metadata": {},
     "output_type": "execute_result"
    }
   ],
   "source": [
    "s.couples"
   ]
  },
  {
   "cell_type": "code",
   "execution_count": 18,
   "metadata": {},
   "outputs": [
    {
     "name": "stdout",
     "output_type": "stream",
     "text": [
      "Lee lee@totten.comsanta for: Papa\n",
      "Dylan dylan@totten.comsanta for: Robyn\n",
      "Jake jake@totten.comsanta for: Alfred\n",
      "Jessica jltewks@gmail.comsanta for: Mimi\n",
      "Mimi judytewks@gmail.comsanta for: Jake\n",
      "Papa jdtewks@gmail.comsanta for: Jessica\n",
      "Robyn robyn.tewksbury@gmail.comsanta for: Dylan\n",
      "Alfred Nonesanta for: Lee\n"
     ]
    }
   ],
   "source": [
    "for family in s.couples:\n",
    "    for santa, params in family.items():\n",
    "        print santa, params['email'] + 'santa for: ' + r[santa]"
   ]
  }
 ],
 "metadata": {
  "kernelspec": {
   "display_name": "Python 2",
   "language": "python",
   "name": "python2"
  },
  "language_info": {
   "codemirror_mode": {
    "name": "ipython",
    "version": 2
   },
   "file_extension": ".py",
   "mimetype": "text/x-python",
   "name": "python",
   "nbconvert_exporter": "python",
   "pygments_lexer": "ipython2",
   "version": "2.7.13"
  }
 },
 "nbformat": 4,
 "nbformat_minor": 2
}
